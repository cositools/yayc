{
 "cells": [
  {
   "cell_type": "markdown",
   "id": "ae5cd2b7-79af-425a-92c5-ff72a7aa4c36",
   "metadata": {},
   "source": [
    "# yayc"
   ]
  },
  {
   "cell_type": "markdown",
   "id": "500ff2ee-b72d-4b93-8f47-3ba1027cb42e",
   "metadata": {},
   "source": [
    "Yet another YAML-based configurator library. Meant for BurstCube and the COSI Telescope, but maybe useful for other projects. "
   ]
  },
  {
   "cell_type": "markdown",
   "id": "3af08748-a3fb-4add-a89c-c651624a2957",
   "metadata": {},
   "source": [
    "## Reading a config file"
   ]
  },
  {
   "cell_type": "code",
   "execution_count": 1,
   "id": "b20820e5-5c00-4d37-8807-a53f5907ed88",
   "metadata": {},
   "outputs": [],
   "source": [
    "from yayc import Configurator\n",
    "import yayc.test_data\n",
    "\n",
    "c = Configurator.open(yayc.test_data.path/\"config_example.yaml\")"
   ]
  },
  {
   "cell_type": "code",
   "execution_count": 2,
   "id": "f8a1f97d-a6c7-40f1-a2bb-e58bfdd4f270",
   "metadata": {},
   "outputs": [
    {
     "data": {
      "text/plain": [
       "1"
      ]
     },
     "execution_count": 2,
     "metadata": {},
     "output_type": "execute_result"
    }
   ],
   "source": [
    "c['section:param_int']"
   ]
  },
  {
   "cell_type": "code",
   "execution_count": 3,
   "id": "fbef70fd-43c4-4bda-8cc4-b582be6af1b8",
   "metadata": {},
   "outputs": [
    {
     "data": {
      "text/plain": [
       "1.0"
      ]
     },
     "execution_count": 3,
     "metadata": {},
     "output_type": "execute_result"
    }
   ],
   "source": [
    "c['section:param_float']"
   ]
  },
  {
   "cell_type": "code",
   "execution_count": 4,
   "id": "f4d18abd-736f-4348-8677-e9cee6dbe2cb",
   "metadata": {},
   "outputs": [
    {
     "data": {
      "text/plain": [
       "'a'"
      ]
     },
     "execution_count": 4,
     "metadata": {},
     "output_type": "execute_result"
    }
   ],
   "source": [
    "c['section:param_string']"
   ]
  },
  {
   "cell_type": "code",
   "execution_count": 5,
   "id": "a28ebad2-744e-46e0-b4cd-ba9919acadfe",
   "metadata": {},
   "outputs": [
    {
     "data": {
      "text/plain": [
       "[0, 1, 2, 3]"
      ]
     },
     "execution_count": 5,
     "metadata": {},
     "output_type": "execute_result"
    }
   ],
   "source": [
    "c['section:param_list']"
   ]
  },
  {
   "cell_type": "code",
   "execution_count": 6,
   "id": "fc3a6ee3-3d94-46d7-82b4-fc2681be05ac",
   "metadata": {},
   "outputs": [
    {
     "data": {
      "text/plain": [
       "['a', 'b', 'c']"
      ]
     },
     "execution_count": 6,
     "metadata": {},
     "output_type": "execute_result"
    }
   ],
   "source": [
    "c['section:param_list2']"
   ]
  },
  {
   "cell_type": "markdown",
   "id": "40962755-f3d3-4251-94f2-84a8e4f3b327",
   "metadata": {},
   "source": [
    "## Overriding a parameter"
   ]
  },
  {
   "cell_type": "markdown",
   "id": "5e778bcc-6aa1-4e98-9afc-e3b9bd4190e0",
   "metadata": {},
   "source": [
    "Usually you have command line programs like this\n",
    "```\n",
    "my_app -c config_example.yaml --foo bar\n",
    "```\n",
    "\n",
    "You might want to let the user to change the behavior, but also don't want to set a bunch of flags for each option. It's also cumbersome to modify the config file for each run. \n",
    "\n",
    "You can have a generic flag that the user can use to change any behavior, e.g.\n",
    "\n",
    "```\n",
    "my_app -c config_example.yaml --override \"section:param_int = 2\" \"section:param_string = b\"\n",
    "```\n",
    "\n",
    "You can parse this using `argparse` and pass the input to `--override` to the `Configurator` object:"
   ]
  },
  {
   "cell_type": "code",
   "execution_count": 7,
   "id": "ee9171c0-8228-4bd5-ac46-7b071abeedbe",
   "metadata": {},
   "outputs": [],
   "source": [
    "override_input = [\"section:param_int = 2\", \"section:param_string = b\"]"
   ]
  },
  {
   "cell_type": "code",
   "execution_count": 8,
   "id": "458b6989-0221-4884-8fdd-979fd07d3b50",
   "metadata": {},
   "outputs": [],
   "source": [
    "c.override(*override_input)"
   ]
  },
  {
   "cell_type": "code",
   "execution_count": 9,
   "id": "09dda1be-ce27-4ecf-aca6-a0c59017b356",
   "metadata": {},
   "outputs": [
    {
     "data": {
      "text/plain": [
       "2"
      ]
     },
     "execution_count": 9,
     "metadata": {},
     "output_type": "execute_result"
    }
   ],
   "source": [
    "c[\"section:param_int\"]"
   ]
  },
  {
   "cell_type": "code",
   "execution_count": 10,
   "id": "398ef96b-5209-47d3-80a8-8fbbd75902f8",
   "metadata": {},
   "outputs": [
    {
     "data": {
      "text/plain": [
       "'b'"
      ]
     },
     "execution_count": 10,
     "metadata": {},
     "output_type": "execute_result"
    }
   ],
   "source": [
    "c['section:param_string']"
   ]
  },
  {
   "cell_type": "markdown",
   "id": "5efac322-f9ab-413b-8c7e-565093ac9609",
   "metadata": {},
   "source": [
    "## Relative paths"
   ]
  },
  {
   "cell_type": "markdown",
   "id": "6c0a4a17-2dbf-4024-8563-a3e090dd4caa",
   "metadata": {},
   "source": [
    "It is usually desirable to keep other configuration files together with the yaml file and other logs. this makes it easier to reproduce results. To facilitate this, always use paths relative **to the config file**, not relative to where you executed the progam. Then use this:  "
   ]
  },
  {
   "cell_type": "code",
   "execution_count": 11,
   "id": "66ac1072-ef9e-4a17-8c1f-6311e4184f44",
   "metadata": {},
   "outputs": [
    {
     "data": {
      "text/plain": [
       "PosixPath('/Users/israel/work/software/yayc/yayc/test_data/my_file.txt')"
      ]
     },
     "execution_count": 11,
     "metadata": {},
     "output_type": "execute_result"
    }
   ],
   "source": [
    "c.absolute_path(c['section:param_path'])"
   ]
  },
  {
   "cell_type": "markdown",
   "id": "a2ebc10d-3f97-4acb-ab4b-5f80ee77092c",
   "metadata": {},
   "source": [
    "## Logs"
   ]
  },
  {
   "cell_type": "markdown",
   "id": "5887be21-8612-44dd-87bc-4e00ad1f6528",
   "metadata": {},
   "source": [
    "It's good practice to dump the config file, after any override, to the logs:"
   ]
  },
  {
   "cell_type": "code",
   "execution_count": 12,
   "id": "d6390c44-8a8b-40a4-bd08-e92807fafa2e",
   "metadata": {},
   "outputs": [],
   "source": [
    "with open('test.log', 'w') as f:\n",
    "    f.write(c.dump())"
   ]
  },
  {
   "cell_type": "markdown",
   "id": "0ca35fa8-d21c-427d-bf0b-11894e2a4c87",
   "metadata": {},
   "source": [
    "## Dynamic initialization"
   ]
  },
  {
   "cell_type": "markdown",
   "id": "9ecd8a0a-4986-46d3-b28d-3c40b4427784",
   "metadata": {},
   "source": [
    "This is a little more advanced. In general, you can initialize any object on the fly if you know the module, the name of the class and the input parameters. We can use this to dynamically instantiate an object of an arbitrary class:"
   ]
  },
  {
   "cell_type": "code",
   "execution_count": 13,
   "id": "97357005-fc2e-4176-9a38-855541f31885",
   "metadata": {},
   "outputs": [],
   "source": [
    "# Creating dummy classes in the current module (__main__)\n",
    "    \n",
    "import __main__\n",
    "\n",
    "class ClassA:\n",
    "    def __init__(self, *args, **kwargs):\n",
    "        self._args = args\n",
    "        self._kwargs = kwargs\n",
    "    \n",
    "    def __repr__(self):\n",
    "        return f\"ClassA(args = {self._args}, kwargs = {self._kwargs})\"\n",
    "    \n",
    "class ClassB:\n",
    "    def __init__(self, *args, **kwargs):\n",
    "        self._args = args\n",
    "        self._kwargs = kwargs\n",
    "    \n",
    "    def __repr__(self):\n",
    "        return f\"ClassB(args = {self._args}, kwargs = {self._kwargs})\""
   ]
  },
  {
   "cell_type": "markdown",
   "id": "46484da9-c98f-4d73-9dad-4a8c6b43fef1",
   "metadata": {},
   "source": [
    "Initialize the objet on the fly"
   ]
  },
  {
   "cell_type": "code",
   "execution_count": 14,
   "id": "2c8a801b-50c5-4aa4-b609-366844da2ac3",
   "metadata": {},
   "outputs": [],
   "source": [
    "objects = {label:getattr(__main__, params['class'])(*params['args'], **params['kwargs']) for label,params in c['dynamic_init'].items()}"
   ]
  },
  {
   "cell_type": "code",
   "execution_count": 15,
   "id": "575a7819-cd4b-4175-80ae-36355e18df90",
   "metadata": {},
   "outputs": [
    {
     "name": "stdout",
     "output_type": "stream",
     "text": [
      "{'objectA': ClassA(args = (1, 'a'), kwargs = {'foo': 2, 'bas': 'b'}), 'objectB': ClassB(args = (), kwargs = {'foo': 3})}\n"
     ]
    }
   ],
   "source": [
    "print(objects)"
   ]
  }
 ],
 "metadata": {
  "kernelspec": {
   "display_name": "Python 3 (ipykernel)",
   "language": "python",
   "name": "python3"
  },
  "language_info": {
   "codemirror_mode": {
    "name": "ipython",
    "version": 3
   },
   "file_extension": ".py",
   "mimetype": "text/x-python",
   "name": "python",
   "nbconvert_exporter": "python",
   "pygments_lexer": "ipython3",
   "version": "3.8.1"
  }
 },
 "nbformat": 4,
 "nbformat_minor": 5
}
